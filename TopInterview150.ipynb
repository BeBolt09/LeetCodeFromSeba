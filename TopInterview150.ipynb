{
 "cells": [
  {
   "cell_type": "markdown",
   "metadata": {},
   "source": [
    "### Question 10 -- *45. JUMP GAME II.*"
   ]
  },
  {
   "cell_type": "markdown",
   "metadata": {},
   "source": [
    "You are given a 0-indexed array of integers nums of length n. You are initially positioned at nums[0].\n",
    "\n",
    "Each element nums[i] represents the maximum length of a forward jump from index i. In other words, if you are at nums[i], you can jump to any nums[i + j] where:\n",
    "\n",
    "- 0 <= j <= nums[i] and\n",
    "- i + j < n\n",
    "\n",
    "    Return the minimum number of jumps to reach nums[n - 1]. The test cases are generated such that you can reach nums[n - 1].\n",
    "\n",
    "----------------------------------------------------------------------------------------------------------------\n",
    "Example 1:\n",
    "\n",
    "    Input: nums = [2,3,1,1,4]\n",
    "    Output: 2\n",
    "    \n",
    "    Explanation: The minimum number of jumps to reach the last index is 2. Jump 1 step from index 0 to 1, then 3 steps to the last index.\n",
    "\n",
    "Example 2:\n",
    "\n",
    "    Input: nums = [2,3,0,1,4]\n",
    "    Output: 2"
   ]
  },
  {
   "cell_type": "code",
   "execution_count": 46,
   "metadata": {},
   "outputs": [
    {
     "name": "stdout",
     "output_type": "stream",
     "text": [
      "4\n"
     ]
    }
   ],
   "source": [
    "class Solution(object):\n",
    "    def jump(self, nums):\n",
    "        \"\"\"\n",
    "        :type nums: List[int]\n",
    "        :rtype: int\n",
    "        \"\"\"\n",
    "        jumps = 0\n",
    "        n = 0 \n",
    "        farthest = 0\n",
    "\n",
    "        for i in range(len(nums)-1):\n",
    "            farthest = max(farthest , i+nums[i])\n",
    "            if farthest >= len(nums)-1:\n",
    "                jumps+=1\n",
    "                break\n",
    "            if i == n:\n",
    "                jumps += 1\n",
    "                n = farthest\n",
    "\n",
    "        print(jumps)\n",
    "        return jumps\n",
    "\n",
    "# Testing \n",
    "    jump(int,[2,3,1,1,1,1,4])"
   ]
  },
  {
   "cell_type": "markdown",
   "metadata": {},
   "source": [
    "### Question 11 -- *274. H-Index.*"
   ]
  },
  {
   "cell_type": "markdown",
   "metadata": {},
   "source": [
    "Given an array of integers citations where citations[i] is the number of citations a researcher received for their ith paper, return the researcher's h-index.\n",
    "\n",
    "According to the definition of h-index on Wikipedia: The h-index is defined as the maximum value of h such that the given researcher has published at least h papers that have each been cited at least h times.\n",
    "\n",
    "Example 1:\n",
    "\n",
    "    Input: citations = [3,0,6,1,5]\n",
    "    Output: 3\n",
    "    Explanation: [3,0,6,1,5] means the researcher has 5 papers in total and each of them had received 3, 0, 6, 1, 5 citations respectively.\n",
    "    Since the researcher has 3 papers with at least 3 citations each and the remaining two with no more than 3 citations each, their h-index is 3.\n",
    "\n",
    "Example 2:\n",
    "\n",
    "    Input: citations = [1,3,1]\n",
    "    Output: 1"
   ]
  },
  {
   "cell_type": "code",
   "execution_count": 1,
   "metadata": {},
   "outputs": [
    {
     "name": "stdout",
     "output_type": "stream",
     "text": [
      "[3, 1, 1]\n",
      "1\n"
     ]
    }
   ],
   "source": [
    "class Solution(object):\n",
    "    def hIndex(self, citations):\n",
    "        \"\"\"\n",
    "        :type citations: List[int]\n",
    "        :rtype: int\n",
    "        \"\"\"\n",
    "        citations.sort(reverse=True)\n",
    "        print(citations)\n",
    "        n=len(citations)\n",
    "        h=0\n",
    "\n",
    "        for i in range(n):\n",
    "            if citations[i] >= i+1:\n",
    "                h+=1\n",
    "        print(h)\n",
    "        return h\n",
    "\n",
    "    hIndex(int,[1,3,1])"
   ]
  },
  {
   "cell_type": "markdown",
   "metadata": {},
   "source": [
    "### Question 12 -- *380. Insert Delete GetRandom O(1).*\n",
    "\n",
    "\n",
    "Implement the RandomizedSet class:\n",
    "\n",
    "-RandomizedSet() Initializes the RandomizedSet object.\n",
    "\n",
    "-bool insert(int val) Inserts an item val into the set if not present. Returns true if the item was not present, false otherwise.\n",
    "\n",
    "-bool remove(int val) Removes an item val from the set if present. Returns true if the item was present, false otherwise.\n",
    "\n",
    "-int getRandom() Returns a random element from the current set of elements (it's guaranteed that at least one   element exists when this method is called). Each element must have the same probability of being returned.\n",
    "\n",
    "-You must implement the functions of the class such that each function works in average O(1) time complexity.\n",
    "\n",
    "Example 1:\n",
    "\n",
    "    Input\n",
    "    [\"RandomizedSet\", \"insert\", \"remove\", \"insert\", \"getRandom\", \"remove\", \"insert\", \"getRandom\"]\n",
    "    [[], [1], [2], [2], [], [1], [2], []]\n",
    "    Output\n",
    "    [null, true, false, true, 2, true, false, 2]\n",
    "\n",
    "    Explanation\n",
    "    RandomizedSet randomizedSet = new RandomizedSet();\n",
    "    randomizedSet.insert(1); // Inserts 1 to the set. Returns true as 1 was inserted successfully.\n",
    "    randomizedSet.remove(2); // Returns false as 2 does not exist in the set.\n",
    "    randomizedSet.insert(2); // Inserts 2 to the set, returns true. Set now contains [1,2].\n",
    "    randomizedSet.getRandom(); // getRandom() should return either 1 or 2 randomly.\n",
    "    randomizedSet.remove(1); // Removes 1 from the set, returns true. Set now contains [2].\n",
    "    randomizedSet.insert(2); // 2 was already in the set, so return false.\n",
    "    randomizedSet.getRandom(); // Since 2 is the only number in the set, getRandom() will always return 2.\n",
    "\n",
    "Constraints:\n",
    "\n",
    "    -231 <= val <= 231 - 1\n",
    "    At most 2 * 105 calls will be made to insert, remove, and getRandom.\n",
    "    There will be at least one element in the data structure when getRandom is called."
   ]
  },
  {
   "cell_type": "code",
   "execution_count": 4,
   "metadata": {},
   "outputs": [],
   "source": [
    "import random\n",
    "class RandomizedSet(object):\n",
    "\n",
    "    def __init__(self):\n",
    "        self.numMap = {}\n",
    "        self.numList = []\n",
    "\n",
    "    def insert(self, val):\n",
    "        \"\"\"\n",
    "        :type val: int\n",
    "        :rtype: bool\n",
    "        \"\"\"\n",
    "        res = val not in self.numMap\n",
    "        if res:\n",
    "            self.numMap[val] = len(self.numList)\n",
    "            self.numList.append(val)\n",
    "            return res\n",
    "\n",
    "    def remove(self, val):\n",
    "        \"\"\"\n",
    "        :type val: int\n",
    "        :rtype: bool\n",
    "        \"\"\"\n",
    "        res = val in self.numMap\n",
    "        if res:\n",
    "            idx = self.numMap[val]\n",
    "            last_val = self.numList[-1]\n",
    "            self.numList[idx] = last_val\n",
    "            self.numList.pop()\n",
    "            self.numMap[last_val] = idx\n",
    "            del self.numMap[val]\n",
    "        return res\n",
    "        \n",
    "    def getRandom(self):\n",
    "        \"\"\"\n",
    "        :rtype: int\n",
    "        \"\"\"\n",
    "        return random.choice(self.numList)\n",
    "        \n",
    "\n",
    "\n",
    "# Your RandomizedSet object will be instantiated and called as such:\n",
    "obj = RandomizedSet()\n",
    "param_1 = obj.insert(2)\n",
    "param_2 = obj.remove(1)\n",
    "param_3 = obj.getRandom()"
   ]
  }
 ],
 "metadata": {
  "kernelspec": {
   "display_name": "base",
   "language": "python",
   "name": "python3"
  },
  "language_info": {
   "codemirror_mode": {
    "name": "ipython",
    "version": 3
   },
   "file_extension": ".py",
   "mimetype": "text/x-python",
   "name": "python",
   "nbconvert_exporter": "python",
   "pygments_lexer": "ipython3",
   "version": "3.9.12"
  }
 },
 "nbformat": 4,
 "nbformat_minor": 2
}
